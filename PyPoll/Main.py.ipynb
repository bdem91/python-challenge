{
 "cells": [
  {
   "cell_type": "code",
   "execution_count": 1,
   "metadata": {},
   "outputs": [],
   "source": [
    "import os\n",
    "import csv"
   ]
  },
  {
   "cell_type": "code",
   "execution_count": 2,
   "metadata": {},
   "outputs": [],
   "source": [
    "e_data = os.path.join(\"Resources\", \"election_data.csv\")"
   ]
  },
  {
   "cell_type": "code",
   "execution_count": 6,
   "metadata": {},
   "outputs": [],
   "source": [
    "election_csv = csv.reader(open(e_data))\n"
   ]
  },
  {
   "cell_type": "code",
   "execution_count": 7,
   "metadata": {},
   "outputs": [],
   "source": [
    "li = 0\n",
    "khan = 0\n",
    "otooley = 0\n",
    "correy = 0\n",
    "total = 0\n"
   ]
  },
  {
   "cell_type": "code",
   "execution_count": 8,
   "metadata": {},
   "outputs": [],
   "source": [
    "nominees_list = [\"Li\", \"Correy\", \"Khan\", \"O'Tooley\"]"
   ]
  },
  {
   "cell_type": "code",
   "execution_count": 14,
   "metadata": {},
   "outputs": [],
   "source": [
    "for i in election_csv:\n",
    "    total = total + 1\n",
    "    if i[2] ==nominees_list[0]:\n",
    "        li = li + 1\n",
    "    if i[2] == nominees_list[1]:\n",
    "        correy = correy + 1\n",
    "    if i[2] == nominees_list[2]:\n",
    "        khan = khan +1\n",
    "    if i[2] == nominees_list[3]:\n",
    "        otooley = otooley + 1\n",
    "        \n",
    "    if li > correy & li > khan & li > otooley:\n",
    "        winner = \"li\"\n",
    "    elif correy > li & correy > khan & correy > otooley:\n",
    "        winner = \"correy\"\n",
    "    elif khan > li & khan > correy & khan > otooley:\n",
    "        winner = \"khan\"\n",
    "    elif otooley > li & otooley > correy & otooley > khan:\n",
    "        winner = \"otooley\"\n"
   ]
  },
  {
   "cell_type": "code",
   "execution_count": 16,
   "metadata": {},
   "outputs": [],
   "source": [
    "percentage_li = (li/total *100)\n",
    "percentage_correy = (correy/total*100)\n",
    "pecentage_khan = (khan/total *100)\n",
    "percentage_otooley = (otooley/total *100)"
   ]
  },
  {
   "cell_type": "code",
   "execution_count": 18,
   "metadata": {},
   "outputs": [
    {
     "name": "stdout",
     "output_type": "stream",
     "text": [
      "Election Results\n",
      "------------------------\n",
      "Total Votes: 3521002\n",
      "------------------------\n",
      "Khan: 63.00% (2218230)\n",
      "Correy: 20.00% (704200)\n",
      "Li: 14.00% (492940)\n",
      "O'Tooley: 3.00% (105630)\n",
      "------------------------\n"
     ]
    }
   ],
   "source": [
    "print(f'Election Results')\n",
    "print(f'------------------------')\n",
    "print(f'Total Votes: {total}')\n",
    "print(f'------------------------')\n",
    "print(f'Khan: {pecentage_khan:.2f}% ({khan})')\n",
    "print(f'Correy: {percentage_correy:.2f}% ({correy})')\n",
    "print(f'Li: {percentage_li:.2f}% ({li})')\n",
    "print(f'O\\'Tooley: {percentage_otooley:.2f}% ({otooley})')\n",
    "print(f'------------------------')"
   ]
  },
  {
   "cell_type": "code",
   "execution_count": null,
   "metadata": {},
   "outputs": [],
   "source": []
  }
 ],
 "metadata": {
  "kernelspec": {
   "display_name": "Python 3",
   "language": "python",
   "name": "python3"
  },
  "language_info": {
   "codemirror_mode": {
    "name": "ipython",
    "version": 3
   },
   "file_extension": ".py",
   "mimetype": "text/x-python",
   "name": "python",
   "nbconvert_exporter": "python",
   "pygments_lexer": "ipython3",
   "version": "3.7.1"
  }
 },
 "nbformat": 4,
 "nbformat_minor": 2
}
